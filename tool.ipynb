{
 "cells": [
  {
   "cell_type": "code",
   "execution_count": 5,
   "id": "6d32169d-167f-45d4-a3be-0aed2a20a6e0",
   "metadata": {},
   "outputs": [
    {
     "name": "stdout",
     "output_type": "stream",
     "text": [
      "Astronomical Image Sonification Tool\n"
     ]
    },
    {
     "name": "stdin",
     "output_type": "stream",
     "text": [
      "Enter image file path:  hires.jpg\n"
     ]
    },
    {
     "name": "stdout",
     "output_type": "stream",
     "text": [
      "Image data saved to hires_data.csv\n",
      "Select Sonification Mode:\n",
      "1. Brightness-Based Pitch Modulation\n",
      "2. Color-Based Sound Effects\n"
     ]
    },
    {
     "name": "stdin",
     "output_type": "stream",
     "text": [
      "Enter your choice (1 or 2):  1\n"
     ]
    },
    {
     "name": "stdout",
     "output_type": "stream",
     "text": [
      "Audio saved to hires_brightness_audio.wav\n"
     ]
    }
   ],
   "source": [
    "import cv2\n",
    "import numpy as np\n",
    "import pandas as pd\n",
    "from scipy.io.wavfile import write\n",
    "import os\n",
    "\n",
    "\n",
    "# Mapping Functions\n",
    "def brightness_to_frequency(brightness):\n",
    "    return 20 + (brightness / 255) * (20000 - 20)\n",
    "\n",
    "def rgb_to_frequency(r, g, b):\n",
    "    return 20 + ((r + g + b) / (3 * 255)) * (20000 - 20)\n",
    "\n",
    "def rgb_to_amplitude(r, g, b):\n",
    "    return (r + g + b) / (3 * 255)\n",
    "\n",
    "# Image Processing and CSV Conversion\n",
    "def image_to_csv(image_path, csv_path, target_size=(200, 200)):\n",
    "    image = cv2.imread(image_path)\n",
    "    if image is None:\n",
    "        raise FileNotFoundError(\"Image not found. Please check the file path.\")\n",
    "    \n",
    "    # Resize the image to the target size (200x200) very important to reduce load on system and reduce the computation time otherwise \n",
    "    # too much time will be taken to process image with a large number of pixels or high quality images\n",
    "    image = cv2.resize(image, target_size)\n",
    "    image = cv2.cvtColor(image, cv2.COLOR_BGR2RGB)\n",
    "    height, width, _ = image.shape\n",
    "    \n",
    "    with open(csv_path, 'w') as file:\n",
    "        file.write('Row,Column,Red,Green,Blue\\n')\n",
    "        for row in range(height):\n",
    "            for col in range(width):\n",
    "                r, g, b = image[row, col]\n",
    "                file.write(f'{row},{col},{r},{g},{b}\\n')\n",
    "    print(f\"Image data saved to {csv_path}\")\n",
    "\n",
    "# Sonification Modes\n",
    "def sonify_brightness(csv_path, output_audio):\n",
    "    \"\"\"based on brightness\"\"\"\n",
    "    pixel_data = pd.read_csv(csv_path)\n",
    "    sample_rate = 44100\n",
    "    duration_per_pixel = 0.01 #to reduce the processing time and produce a sound file with shorter duration,though some clarity may be lost\n",
    "    samples = []\n",
    "    \n",
    "    for _, row in pixel_data.iterrows():\n",
    "        r, g, b = row['Red'], row['Green'], row['Blue']\n",
    "        brightness = (r + g + b) / 3\n",
    "        frequency = brightness_to_frequency(brightness)\n",
    "        amplitude = brightness / 255\n",
    "        t = np.linspace(0, duration_per_pixel, int(sample_rate * duration_per_pixel), endpoint=False)\n",
    "        wave = amplitude * np.sin(2 * np.pi * frequency * t)\n",
    "        samples.extend(wave)\n",
    "    \n",
    "    samples = np.array(samples, dtype=np.float32)\n",
    "    write(output_audio, sample_rate, samples)\n",
    "    print(f\"Audio saved to {output_audio}\")\n",
    "\n",
    "def sonify_color(csv_path, output_audio):\n",
    "    \"\"\"based on RGB values\"\"\"\n",
    "    pixel_data = pd.read_csv(csv_path)\n",
    "    sample_rate = 44100\n",
    "    duration_per_pixel = 0.01\n",
    "    samples = []\n",
    "    \n",
    "    for _, row in pixel_data.iterrows():\n",
    "        r, g, b = row['Red'], row['Green'], row['Blue']\n",
    "        frequency = rgb_to_frequency(r, g, b)\n",
    "        amplitude = rgb_to_amplitude(r, g, b)\n",
    "        t = np.linspace(0, duration_per_pixel, int(sample_rate * duration_per_pixel), endpoint=False)\n",
    "        wave = amplitude * np.sin(2 * np.pi * frequency * t)\n",
    "        samples.extend(wave)\n",
    "    \n",
    "    samples = np.array(samples, dtype=np.float32)\n",
    "    write(output_audio, sample_rate, samples)\n",
    "    print(f\"Audio saved to {output_audio}\")\n",
    "\n",
    "# Main Interface\n",
    "def main():\n",
    "    print(\"Astronomical Image Sonification Tool\")\n",
    "    image_path = input(\"Enter image file path: \")\n",
    "\n",
    "    # Extract the image name without extension\n",
    "    image_name = os.path.splitext(os.path.basename(image_path))[0]\n",
    "\n",
    "    csv_path = f\"{image_name}_data.csv\"\n",
    "    image_to_csv(image_path, csv_path)\n",
    "    \n",
    "    print(\"Select Sonification Mode:\")\n",
    "    print(\"1. Brightness-Based Pitch Modulation\")\n",
    "    print(\"2. Color-Based Sound Effects\")\n",
    "    mode = input(\"Enter your choice (1 or 2): \")\n",
    "    \n",
    "    if mode == '1':\n",
    "        sonify_brightness(csv_path, f\"{image_name}_brightness_audio.wav\")\n",
    "    elif mode == '2':\n",
    "        sonify_color(csv_path, f\"{image_name}_color_audio.wav\")\n",
    "    else:\n",
    "        print(\"Invalid choice.\")\n",
    "\n",
    "if __name__ == '__main__':\n",
    "    main()\n"
   ]
  },
  {
   "cell_type": "code",
   "execution_count": null,
   "id": "d53f2a0d-8196-4de2-b07f-8756255cc274",
   "metadata": {},
   "outputs": [],
   "source": []
  },
  {
   "cell_type": "code",
   "execution_count": null,
   "id": "a58ab508-644f-48b2-a24b-cf09816a9c2c",
   "metadata": {},
   "outputs": [],
   "source": []
  }
 ],
 "metadata": {
  "kernelspec": {
   "display_name": "Python 3 (ipykernel)",
   "language": "python",
   "name": "python3"
  },
  "language_info": {
   "codemirror_mode": {
    "name": "ipython",
    "version": 3
   },
   "file_extension": ".py",
   "mimetype": "text/x-python",
   "name": "python",
   "nbconvert_exporter": "python",
   "pygments_lexer": "ipython3",
   "version": "3.12.4"
  }
 },
 "nbformat": 4,
 "nbformat_minor": 5
}
