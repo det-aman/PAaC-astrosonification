{
 "cells": [
  {
   "cell_type": "code",
   "execution_count": 3,
   "id": "555994c9-95c6-425c-b12b-ab953ab3c198",
   "metadata": {},
   "outputs": [
    {
     "name": "stdout",
     "output_type": "stream",
     "text": [
      "Audio file created: image_to_audio.wav\n"
     ]
    }
   ],
   "source": [
    "import numpy as np\n",
    "from scipy.io.wavfile import write\n",
    "import pandas as pd\n",
    "\n",
    "# Load pixel data from CSV\n",
    "csv_file = 'high_res_galaxy_image_rgb.csv'  \n",
    "pixel_data = pd.read_csv(csv_file)\n",
    "\n",
    "# Map RGB to Frequency\n",
    "def rgb_to_frequency(r, g, b):\n",
    "    return 20 + (r + g + b) / (3 * 255) * (20000 - 20)\n",
    "\n",
    "# Map RGB to Amplitude\n",
    "def rgb_to_amplitude(r, g, b):\n",
    "    return (r + g + b) / (3 * 255)\n",
    "\n",
    "# Audio Parameters\n",
    "sample_rate = 44100 \n",
    "duration_per_pixel = 0.01  # Duration for each pixel sound (10 ms)\n",
    "samples = []\n",
    "\n",
    "# Loop through each pixel in the CSV\n",
    "for _, row in pixel_data.iterrows():\n",
    "    r, g, b = row['Red'], row['Green'], row['Blue']\n",
    "    frequency = rgb_to_frequency(r, g, b)\n",
    "    amplitude = rgb_to_amplitude(r, g, b)\n",
    "    \n",
    "    # Generate the sound wave for this pixel\n",
    "    t = np.linspace(0, duration_per_pixel, int(sample_rate * duration_per_pixel), endpoint=False)\n",
    "    wave = amplitude * np.sin(2 * np.pi * frequency * t)\n",
    "    samples.extend(wave)\n",
    "\n",
    "# Convert the samples to a NumPy array\n",
    "samples = np.array(samples, dtype=np.float32)\n",
    "\n",
    "# Write to a WAV file\n",
    "output_file = 'image_to_audio.wav'\n",
    "write(output_file, sample_rate, samples)\n",
    "\n",
    "print(f\"Audio file created: {output_file}\")\n"
   ]
  },
  {
   "cell_type": "code",
   "execution_count": null,
   "id": "7b6e8cd1-87cb-4952-8ced-fba5a4c23d8e",
   "metadata": {},
   "outputs": [],
   "source": []
  }
 ],
 "metadata": {
  "kernelspec": {
   "display_name": "Python 3 (ipykernel)",
   "language": "python",
   "name": "python3"
  },
  "language_info": {
   "codemirror_mode": {
    "name": "ipython",
    "version": 3
   },
   "file_extension": ".py",
   "mimetype": "text/x-python",
   "name": "python",
   "nbconvert_exporter": "python",
   "pygments_lexer": "ipython3",
   "version": "3.12.4"
  }
 },
 "nbformat": 4,
 "nbformat_minor": 5
}
